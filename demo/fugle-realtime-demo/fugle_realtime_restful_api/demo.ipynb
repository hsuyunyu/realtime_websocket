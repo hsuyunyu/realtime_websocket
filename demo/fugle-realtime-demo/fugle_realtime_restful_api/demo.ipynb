{
 "cells": [
  {
   "cell_type": "markdown",
   "metadata": {
    "toc": true
   },
   "source": [
    "<h1>Table of Contents<span class=\"tocSkip\"></span></h1>\n",
    "<div class=\"toc\"><ul class=\"toc-item\"></ul></div>"
   ]
  },
  {
   "cell_type": "code",
   "execution_count": null,
   "metadata": {
    "ExecuteTime": {
     "end_time": "2020-03-12T03:22:08.256173Z",
     "start_time": "2020-03-12T03:22:07.128903Z"
    }
   },
   "outputs": [],
   "source": [
    "from fugle_realtime_restful_api import *"
   ]
  },
  {
   "cell_type": "code",
   "execution_count": null,
   "metadata": {
    "ExecuteTime": {
     "end_time": "2020-03-12T03:22:10.272573Z",
     "start_time": "2020-03-12T03:22:10.268717Z"
    }
   },
   "outputs": [],
   "source": [
    "api_token = 'YOUR FUGLE API TOKEN'\n",
    "\n",
    "chart = chart_api(api_token=api_token)\n",
    "quote = quote_api(api_token=api_token)\n",
    "line = line_notify(api_token=api_token,\n",
    "                   line_token='YOUR LINE NOTIFY TOKEN')"
   ]
  },
  {
   "cell_type": "code",
   "execution_count": null,
   "metadata": {
    "ExecuteTime": {
     "end_time": "2020-03-12T03:29:49.671335Z",
     "start_time": "2020-03-12T03:22:15.269571Z"
    },
    "code_folding": []
   },
   "outputs": [],
   "source": [
    "external_stylesheets = ['https://codepen.io/chriddyp/pen/bWLwgP.css']\n",
    "app = dash.Dash(__name__, external_stylesheets=external_stylesheets)\n",
    "app.layout = html.Div(children=[\n",
    "    \n",
    "    dcc.Input(id='symbol_input', type='text',\n",
    "              placeholder='input symbol_id',style={'display':'inline-block'}),\n",
    "    \n",
    "    daq.BooleanSwitch(\n",
    "        id='strategy_switch',\n",
    "        on=False,\n",
    "        color='lime',\n",
    "        label='Line Notify Switch',\n",
    "        style={'width':'10%', 'display':'inline-block'}\n",
    "    ),\n",
    "    \n",
    "    dcc.Graph(id='min_K_plot', style={'height':'80vh', 'width':'75%',\n",
    "                                      'vertical-align':'top','display':'inline-block'}),\n",
    "    \n",
    "    dcc.Interval(id='interval_60s', interval=60*1000),\n",
    "    \n",
    "    html.Div(id='order_book', style={'width':'25%',\n",
    "                                     'display':'inline-block', 'vertical-align':'top'}),\n",
    "    \n",
    "    dcc.Interval(id='interval_5s', interval=5*1000)\n",
    "])\n",
    "\n",
    "#The \"inputs\" and \"outputs\" of our application interface are described declaratively through the app.callback decorator.\n",
    "@app.callback(\n",
    "    Output('min_K_plot', 'figure'),\n",
    "    [\n",
    "        Input('interval_60s', 'n_intervals'),\n",
    "        Input('symbol_input', 'value'),\n",
    "    ]\n",
    ")\n",
    "\n",
    "def candlestick_chart(interval_60s, symbol_input):\n",
    "    \n",
    "    df_ohlc = chart.get_chart_data(5, symbol_input)\n",
    "    \n",
    "    return {\n",
    "        'data':[\n",
    "            chart.plot_ohlc(df_ohlc, 'red', 'green'),\n",
    "            chart.plot_MA(df_ohlc, 3, 'black', 3),\n",
    "            chart.plot_MA(df_ohlc, 5, 'brown', 3),\n",
    "            chart.plot_MA(df_ohlc, 10, 'blue', 1),\n",
    "            chart.plot_volume_bar(df_ohlc, 'red', 'green'),\n",
    "        ],\n",
    "        'layout':{\n",
    "            'xaxis':{'rangeslider':{'visible': False}, 'anchor':'y2'},\n",
    "            'yaxis':{'domain':[0.4, 1]},\n",
    "            'yaxis2':{'domain':[0, 0.35]},\n",
    "            'legend':{'orientation':'h'}, \n",
    "            'title':symbol_input +' '+'分K線圖'\n",
    "        }\n",
    "    }\n",
    "\n",
    "@app.callback(\n",
    "    Output('order_book', 'children'),\n",
    "    [\n",
    "        Input('interval_5s', 'n_intervals'),\n",
    "        Input('symbol_input', 'value'),\n",
    "        Input('strategy_switch', 'on'),\n",
    "    ]\n",
    ")\n",
    "\n",
    "def order_book_table(interval2, symbol_input, strategy_switch):\n",
    "    \n",
    "    if strategy_switch == True:\n",
    "        line.target_price_strategy('2330', 330, 320)\n",
    "        line.target_change_strategy('2884', 0.01, 0.01)\n",
    "        line.target_price_strategy('2317', 90, 80)\n",
    "    else:\n",
    "        pass\n",
    "\n",
    "    df_quote, price_list, symbol = quote.update_quote_data(symbol_input)\n",
    "        \n",
    "    return [\n",
    "        quote.plot_order_book(df_quote, price_list, symbol)\n",
    "    ] \n",
    "\n",
    "\n",
    "\n",
    "if __name__ == '__main__':\n",
    "    app.run_server()"
   ]
  }
 ],
 "metadata": {
  "kernelspec": {
   "display_name": "Python 3",
   "language": "python",
   "name": "python3"
  },
  "language_info": {
   "codemirror_mode": {
    "name": "ipython",
    "version": 3
   },
   "file_extension": ".py",
   "mimetype": "text/x-python",
   "name": "python",
   "nbconvert_exporter": "python",
   "pygments_lexer": "ipython3",
   "version": "3.6.9"
  },
  "toc": {
   "base_numbering": 1,
   "nav_menu": {},
   "number_sections": true,
   "sideBar": true,
   "skip_h1_title": false,
   "title_cell": "Table of Contents",
   "title_sidebar": "Contents",
   "toc_cell": true,
   "toc_position": {},
   "toc_section_display": true,
   "toc_window_display": false
  }
 },
 "nbformat": 4,
 "nbformat_minor": 4
}
