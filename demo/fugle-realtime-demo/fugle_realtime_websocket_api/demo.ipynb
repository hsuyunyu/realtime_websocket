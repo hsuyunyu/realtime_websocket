{
 "cells": [
  {
   "cell_type": "markdown",
   "metadata": {
    "toc": true
   },
   "source": [
    "<h1>Table of Contents<span class=\"tocSkip\"></span></h1>\n",
    "<div class=\"toc\"><ul class=\"toc-item\"></ul></div>"
   ]
  },
  {
   "cell_type": "code",
   "execution_count": 3,
   "metadata": {
    "ExecuteTime": {
     "end_time": "2020-03-12T04:36:42.077511Z",
     "start_time": "2020-03-12T04:36:40.999499Z"
    }
   },
   "outputs": [
    {
     "ename": "ModuleNotFoundError",
     "evalue": "No module named 'websocket'",
     "output_type": "error",
     "traceback": [
      "\u001b[1;31m---------------------------------------------------------------------------\u001b[0m",
      "\u001b[1;31mModuleNotFoundError\u001b[0m                       Traceback (most recent call last)",
      "\u001b[1;32m<ipython-input-3-49140834b3d1>\u001b[0m in \u001b[0;36m<module>\u001b[1;34m\u001b[0m\n\u001b[1;32m----> 1\u001b[1;33m \u001b[1;32mfrom\u001b[0m \u001b[0mfugle_realtime_websocket_api\u001b[0m \u001b[1;32mimport\u001b[0m \u001b[1;33m*\u001b[0m\u001b[1;33m\u001b[0m\u001b[1;33m\u001b[0m\u001b[0m\n\u001b[0m",
      "\u001b[1;32m~\\OneDrive\\文件\\Scripts\\demo\\fugle-realtime-demo\\fugle_realtime_websocket_api\\fugle_realtime_websocket_api.py\u001b[0m in \u001b[0;36m<module>\u001b[1;34m\u001b[0m\n\u001b[0;32m     12\u001b[0m \u001b[1;32mimport\u001b[0m \u001b[0mnumpy\u001b[0m \u001b[1;32mas\u001b[0m \u001b[0mnp\u001b[0m\u001b[1;33m\u001b[0m\u001b[1;33m\u001b[0m\u001b[0m\n\u001b[0;32m     13\u001b[0m \u001b[1;32mimport\u001b[0m \u001b[0mdatetime\u001b[0m\u001b[1;33m\u001b[0m\u001b[1;33m\u001b[0m\u001b[0m\n\u001b[1;32m---> 14\u001b[1;33m \u001b[1;32mimport\u001b[0m \u001b[0mwebsocket\u001b[0m\u001b[1;33m\u001b[0m\u001b[1;33m\u001b[0m\u001b[0m\n\u001b[0m\u001b[0;32m     15\u001b[0m \u001b[1;32mimport\u001b[0m \u001b[0msys\u001b[0m\u001b[1;33m\u001b[0m\u001b[1;33m\u001b[0m\u001b[0m\n\u001b[0;32m     16\u001b[0m \u001b[1;32mimport\u001b[0m \u001b[0mtrace\u001b[0m\u001b[1;33m\u001b[0m\u001b[1;33m\u001b[0m\u001b[0m\n",
      "\u001b[1;31mModuleNotFoundError\u001b[0m: No module named 'websocket'"
     ]
    }
   ],
   "source": [
    "from fugle_realtime_websocket_api import *"
   ]
  },
  {
   "cell_type": "code",
   "execution_count": null,
   "metadata": {
    "ExecuteTime": {
     "end_time": "2020-03-12T04:36:46.877232Z",
     "start_time": "2020-03-12T04:36:46.873844Z"
    }
   },
   "outputs": [],
   "source": [
    "api_token = 'YOUR FUGLE API TOKEN'\n",
    "chart = chart_websocket_api(api_token=api_token)\n",
    "quote = quote_websocket_api(api_token=api_token)"
   ]
  },
  {
   "cell_type": "code",
   "execution_count": 2,
   "metadata": {
    "ExecuteTime": {
     "end_time": "2020-03-12T04:37:56.278704Z",
     "start_time": "2020-03-12T04:36:53.162225Z"
    }
   },
   "outputs": [
    {
     "ename": "NameError",
     "evalue": "name 'dash' is not defined",
     "output_type": "error",
     "traceback": [
      "\u001b[1;31m---------------------------------------------------------------------------\u001b[0m",
      "\u001b[1;31mNameError\u001b[0m                                 Traceback (most recent call last)",
      "\u001b[1;32m<ipython-input-2-1d88bcef6d2b>\u001b[0m in \u001b[0;36m<module>\u001b[1;34m\u001b[0m\n\u001b[0;32m      1\u001b[0m \u001b[0mexternal_stylesheets\u001b[0m \u001b[1;33m=\u001b[0m \u001b[1;33m[\u001b[0m\u001b[1;34m'https://codepen.io/chriddyp/pen/bWLwgP.css'\u001b[0m\u001b[1;33m]\u001b[0m\u001b[1;33m\u001b[0m\u001b[1;33m\u001b[0m\u001b[0m\n\u001b[1;32m----> 2\u001b[1;33m \u001b[0mapp\u001b[0m \u001b[1;33m=\u001b[0m \u001b[0mdash\u001b[0m\u001b[1;33m.\u001b[0m\u001b[0mDash\u001b[0m\u001b[1;33m(\u001b[0m\u001b[0m__name__\u001b[0m\u001b[1;33m,\u001b[0m \u001b[0mexternal_stylesheets\u001b[0m\u001b[1;33m=\u001b[0m\u001b[0mexternal_stylesheets\u001b[0m\u001b[1;33m)\u001b[0m\u001b[1;33m\u001b[0m\u001b[1;33m\u001b[0m\u001b[0m\n\u001b[0m\u001b[0;32m      3\u001b[0m \u001b[1;33m\u001b[0m\u001b[0m\n\u001b[0;32m      4\u001b[0m app.layout = html.Div(children=[\n\u001b[0;32m      5\u001b[0m \u001b[1;33m\u001b[0m\u001b[0m\n",
      "\u001b[1;31mNameError\u001b[0m: name 'dash' is not defined"
     ]
    }
   ],
   "source": [
    "external_stylesheets = ['https://codepen.io/chriddyp/pen/bWLwgP.css']\n",
    "app = dash.Dash(__name__, external_stylesheets=external_stylesheets)\n",
    "\n",
    "app.layout = html.Div(children=[\n",
    "    \n",
    "    dcc.Graph(id='min_K_plot', style={'height':'80vh', 'width':'75%',\n",
    "                                      'vertical-align':'top','display':'inline-block'}),\n",
    "    \n",
    "    html.Div(id='order_book', style={'width':'25%',\n",
    "                                     'display':'inline-block', 'vertical-align':'top'}),\n",
    "    \n",
    "    dcc.Interval(id='interval1', interval=5*1000),\n",
    "    dcc.Interval(id='interval2', interval=1*1000)\n",
    "])\n",
    "\n",
    "#The \"inputs\" and \"outputs\" of our application interface are described declaratively through the app.callback decorator.\n",
    "@app.callback(\n",
    "    Output('min_K_plot', 'figure'),\n",
    "    [Input('interval1', 'n_intervals')])\n",
    " \n",
    "def candlestick_chart(interval1):\n",
    "    \n",
    "    df_ohlc = chart.get_chart_data(5, '2884')\n",
    "\n",
    "    return {\n",
    "        'data':[\n",
    "            chart.plot_ohlc(df_ohlc, 'red', 'green'),\n",
    "            chart.plot_MA(df_ohlc, 5, 'black', 4),\n",
    "            chart.plot_MA(df_ohlc, 10, 'brown', 2),\n",
    "            chart.plot_volume_bar(df_ohlc, 'red', 'green'),\n",
    "        ],\n",
    "        'layout':{\n",
    "            'xaxis':{'rangeslider':{'visible': False}, 'anchor':'y2'},\n",
    "            'yaxis':{'domain':[0.4, 1]},\n",
    "            'yaxis2':{'domain':[0, 0.35]},\n",
    "            'legend':{'orientation':'h'},\n",
    "            'title':'分K線圖'\n",
    "        }\n",
    "    }\n",
    "\n",
    "@app.callback(\n",
    "    Output('order_book', 'children'),\n",
    "    [Input('interval2', 'n_intervals')])\n",
    "\n",
    "def order_book_table(interval2):\n",
    "\n",
    "    df_quote, price_list, symbol = quote.update_quote_data('2884')\n",
    "        \n",
    "    return [\n",
    "        quote.plot_order_book(df_quote, price_list, symbol)\n",
    "    ]\n",
    "\n",
    "\n",
    "if __name__ == '__main__':\n",
    "    app.run_server()"
   ]
  },
  {
   "cell_type": "code",
   "execution_count": null,
   "metadata": {},
   "outputs": [],
   "source": []
  }
 ],
 "metadata": {
  "kernelspec": {
   "display_name": "Python 3",
   "language": "python",
   "name": "python3"
  },
  "language_info": {
   "codemirror_mode": {
    "name": "ipython",
    "version": 3
   },
   "file_extension": ".py",
   "mimetype": "text/x-python",
   "name": "python",
   "nbconvert_exporter": "python",
   "pygments_lexer": "ipython3",
   "version": "3.6.10"
  },
  "toc": {
   "base_numbering": 1,
   "nav_menu": {},
   "number_sections": true,
   "sideBar": true,
   "skip_h1_title": false,
   "title_cell": "Table of Contents",
   "title_sidebar": "Contents",
   "toc_cell": true,
   "toc_position": {},
   "toc_section_display": true,
   "toc_window_display": false
  }
 },
 "nbformat": 4,
 "nbformat_minor": 4
}
