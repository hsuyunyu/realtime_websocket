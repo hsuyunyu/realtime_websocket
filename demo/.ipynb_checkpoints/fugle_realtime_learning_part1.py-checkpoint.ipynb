{
 "cells": [
  {
   "cell_type": "code",
   "execution_count": 1,
   "metadata": {},
   "outputs": [],
   "source": [
    "from fugle_realtime import intraday"
   ]
  },
  {
   "cell_type": "code",
   "execution_count": 2,
   "metadata": {},
   "outputs": [],
   "source": [
    "message = intraday.quote(apiToken='cdba1ab1347ce78103faee266855f118',symbolId='2884',output='raw')"
   ]
  },
  {
   "cell_type": "code",
   "execution_count": 3,
   "metadata": {},
   "outputs": [
    {
     "data": {
      "text/plain": [
       "26.65"
      ]
     },
     "execution_count": 3,
     "metadata": {},
     "output_type": "execute_result"
    }
   ],
   "source": [
    "message['trade']['price']"
   ]
  },
  {
   "cell_type": "code",
   "execution_count": 4,
   "metadata": {},
   "outputs": [],
   "source": [
    "import time"
   ]
  },
  {
   "cell_type": "code",
   "execution_count": null,
   "metadata": {},
   "outputs": [
    {
     "name": "stdout",
     "output_type": "stream",
     "text": [
      "現在時間： Fri Sep  4 23:05:20 2020 最新一筆成交價 26.65\r"
     ]
    }
   ],
   "source": [
    "while True:\n",
    "    message = intraday.quote(apiToken='cdba1ab1347ce78103faee266855f118',symbolId='2884',output='raw')\n",
    "    # 現在時間\n",
    "    now = time.ctime()\n",
    "    # 輸出結果\n",
    "    print(\"現在時間：\", now,'最新一筆成交價',message['trade']['price'] , end='\\r')\n",
    "    time.sleep(1)"
   ]
  },
  {
   "cell_type": "code",
   "execution_count": null,
   "metadata": {},
   "outputs": [],
   "source": [
    "intraday.chart(apiToken='cdba1ab1347ce78103faee266855f118',symbolId='2884')"
   ]
  },
  {
   "cell_type": "code",
   "execution_count": null,
   "metadata": {},
   "outputs": [],
   "source": [
    "intraday.meta(apiToken='cdba1ab1347ce78103faee266855f118',symbolId='2884',output='raw')"
   ]
  }
 ],
 "metadata": {
  "kernelspec": {
   "display_name": "Python 3",
   "language": "python",
   "name": "python3"
  },
  "language_info": {
   "codemirror_mode": {
    "name": "ipython",
    "version": 3
   },
   "file_extension": ".py",
   "mimetype": "text/x-python",
   "name": "python",
   "nbconvert_exporter": "python",
   "pygments_lexer": "ipython3",
   "version": "3.6.10"
  }
 },
 "nbformat": 4,
 "nbformat_minor": 4
}
